{
 "cells": [
  {
   "cell_type": "markdown",
   "metadata": {},
   "source": [
    "<h1><em>CHEMOSTAT</em> Mass Balance </h1><hr>\n",
    "<h4> Potential Errors: </h4>\n",
    "1) Biomass loaded effluent liquid has assumed density of 1000 g/L <br>\n",
    "2) Acetate as a liquid product not considered <br>\n",
    "3) Inlet and effluent component fractions are normalized but maybe should not be <br>\n",
    "4) Liquid draw rate is calculated using an oxygen mass balance, but it may be more appropriate to simply set Draw Rate = Feed Rate <br>"
   ]
  },
  {
   "cell_type": "code",
   "execution_count": 1,
   "metadata": {},
   "outputs": [],
   "source": [
    "import pandas as pd\n",
    "from openpyxl import load_workbook\n",
    "from pprint import pprint\n",
    "pd.set_option('display.max_columns', None)\n",
    "pd.set_option('display.max_rows', 500)"
   ]
  },
  {
   "cell_type": "markdown",
   "metadata": {},
   "source": [
    "<h2>1) Take User Inputs, set File Paths </h2>"
   ]
  },
  {
   "cell_type": "code",
   "execution_count": 3,
   "metadata": {},
   "outputs": [
    {
     "name": "stdout",
     "output_type": "stream",
     "text": [
      "Enter the digits from the run ID (CST'XXX'). Only enter the digits!: 291\n",
      "Enter the START time. If timepoint is not in raw data, the next timepoint will be used. 1395\n",
      "Enter the END time. If timepoint is not in raw data, the previous timepoint will be used. 1503\n"
     ]
    }
   ],
   "source": [
    "run_id     = 'CST' + str(input(\"Enter the digits from the run ID (CST'XXX'). Only enter the digits!: \"))\n",
    "start_time = float(input(\"Enter the START time. If timepoint is not in raw data, the next timepoint will be used. \"))\n",
    "end_time   = float(input(\"Enter the END time. If timepoint is not in raw data, the previous timepoint will be used. \"))\n",
    "\n",
    "infile  = '../CST Data Files/run_set_data_' + run_id + '.csv'\n",
    "outfile = '../Mass Balance Run List PYTHON v0.5 (new all-in-one script).xlsx'\n",
    "varfile = 'FDI Tags (do not touch)/tank_tags_map.csv'"
   ]
  },
  {
   "cell_type": "code",
   "execution_count": 4,
   "metadata": {},
   "outputs": [
    {
     "name": "stdout",
     "output_type": "stream",
     "text": [
      "Are you using the BLEND gas stream? Enter 'y' or 'n': y\n",
      "Are you using other gas streams? Enter 'y' or 'n': n\n",
      "Gas streams considered in calculations: ['BLEND']\n"
     ]
    }
   ],
   "source": [
    "# Determine which gas streams will be considered\n",
    "used_streams = []\n",
    "\n",
    "answer = input(\"Are you using the BLEND gas stream? Enter 'y' or 'n': \")\n",
    "if answer == 'y':\n",
    "    used_streams.append('BLEND')\n",
    "answer = input(\"Are you using other gas streams? Enter 'y' or 'n': \")\n",
    "if answer == 'y':\n",
    "    for stream in ['AIR','CH4','CNG','N2','O2']:\n",
    "        answer = input(f\"Are you using the {stream} stream? Enter 'y' or 'n': \")\n",
    "        if answer == 'y':\n",
    "            used_streams.append(stream)\n",
    "\n",
    "print(f\"Gas streams considered in calculations: {used_streams}\")"
   ]
  },
  {
   "cell_type": "markdown",
   "metadata": {},
   "source": [
    "<h2>2) Initialize Constants, Assumptions, Variables</h2> <hr>\n",
    "\n",
    "<h4>Use Python Dictionaries to hold information for components, elements, streams, rates </h4>\n",
    "\n",
    "Variables starting with _ are constants and will not be changed <br>\n",
    "\n",
    "Suffixes after the last _ GENERALLY denote units\n",
    "\n",
    "x: molar/volumetric fraction <br>\n",
    "w: mass/weight fraction <br>\n",
    "n: number of moles <br>\n",
    "F: flow rate <br>\n",
    "\n",
    "c: component <br>\n",
    "s: stream <br>\n",
    "e: element <br>"
   ]
  },
  {
   "cell_type": "code",
   "execution_count": 5,
   "metadata": {},
   "outputs": [],
   "source": [
    "# Constants, assumptions\n",
    "_OD_to_gDCW_per_L = 0.300\n",
    "_T_ref_K = 298.0\n",
    "_P_ref_bar = 1.0\n",
    "_R__L_bar_per_K_mol = 0.08314\n",
    "_working_mass_g = 425.0\n",
    "_culture_density_g_per_L = 1000.0\n",
    "_working_vol_L = _working_mass_g / _culture_density_g_per_L\n",
    "_Biomass_MW = 23.19\n",
    "_BDO_MW = 90.14\n",
    "\n",
    "# constants pertaining to elements\n",
    "_elements = {'C': {'molar_mass': 12.0, \n",
    "                   'n_in'      : {'argon':0, 'carbon_dioxide':1, 'ethane':2, 'hydrogen':0, 'methane':1, 'nitrogen':0, 'oxygen':0, 'propane':3},\n",
    "                   'w_in'      : {'H2O':     0.0000, \n",
    "                                  'biomass': 0.5424, \n",
    "                                  'BDO':     0.5333}},\n",
    "             'H': {'molar_mass': 1.0,\n",
    "                   'n_in'      : {'argon':0, 'carbon_dioxide':0, 'ethane':6, 'hydrogen':2, 'methane':4, 'nitrogen':0, 'oxygen':0, 'propane':8},\n",
    "                   'w_in'      : {'H2O':     0.1111, \n",
    "                                  'biomass': 0.0714, \n",
    "                                  'BDO':     0.1111}},\n",
    "             'O': {'molar_mass': 16.0,\n",
    "                   'n_in'      : {'argon':0, 'carbon_dioxide':2, 'ethane':0, 'hydrogen':0, 'methane':0, 'nitrogen':0, 'oxygen':2, 'propane':0},\n",
    "                   'w_in'      : {'H2O':     0.8889, \n",
    "                                  'biomass': 0.1778, \n",
    "                                  'BDO':     0.3556}},\n",
    "             'N': {'molar_mass': 14.0,\n",
    "                   'n_in'      : {'argon':0, 'carbon_dioxide':0, 'ethane':0, 'hydrogen':0, 'methane':0, 'nitrogen':2, 'oxygen':0, 'propane':0},\n",
    "                   'w_in'      : {'H2O':     0.0000, \n",
    "                                  'biomass': 0.2084, \n",
    "                                  'BDO':     0.0000}}}\n",
    "                   \n",
    "# to be populated with component data and calculations\n",
    "components = {'argon':         {'x_in_raw':       {}, \n",
    "                                'x_in_norm':      {}, \n",
    "                                'F_in_mph':       {},\n",
    "                                'F_in_TOTAL_mph': 0.0,\n",
    "                                    'x_out_raw':      None, \n",
    "                                    'x_out_norm':     None, \n",
    "                                    'F_out_mph':      None},\n",
    "              'carbon_dioxide':{'x_in_raw':       {}, \n",
    "                                'x_in_norm':      {}, \n",
    "                                'F_in_mph':       {},\n",
    "                                'F_in_TOTAL_mph': 0.0,\n",
    "                                    'x_out_raw':      None, \n",
    "                                    'x_out_norm':     None, \n",
    "                                    'F_out_mph':      None},\n",
    "              'ethane':        {'x_in_raw':       {}, \n",
    "                                'x_in_norm':      {}, \n",
    "                                'F_in_mph':       {},\n",
    "                                'F_in_TOTAL_mph': 0.0,\n",
    "                                    'x_out_raw':      None, \n",
    "                                    'x_out_norm':     None, \n",
    "                                    'F_out_mph':      None},\n",
    "              'hydrogen':      {'x_in_raw':       {}, \n",
    "                                'x_in_norm':      {}, \n",
    "                                'F_in_mph':       {},\n",
    "                                'F_in_TOTAL_mph': 0.0,\n",
    "                                    'x_out_raw':      None, \n",
    "                                    'x_out_norm':     None, \n",
    "                                    'F_out_mph':      None},\n",
    "              'methane':       {'x_in_raw':       {}, \n",
    "                                'x_in_norm':      {}, \n",
    "                                'F_in_mph':       {},\n",
    "                                'F_in_TOTAL_mph': 0.0,\n",
    "                                    'x_out_raw':      None, \n",
    "                                    'x_out_norm':     None, \n",
    "                                    'F_out_mph':      None},\n",
    "              'nitrogen':      {'x_in_raw':       {}, \n",
    "                                'x_in_norm':      {}, \n",
    "                                'F_in_mph':       {},\n",
    "                                'F_in_TOTAL_mph': 0.0,\n",
    "                                    'x_out_raw':      None, \n",
    "                                    'x_out_norm':     None, \n",
    "                                    'F_out_mph':      None},\n",
    "              'oxygen':        {'x_in_raw':       {}, \n",
    "                                'x_in_norm':      {}, \n",
    "                                'F_in_mph':       {},\n",
    "                                'F_in_TOTAL_mph': 0.0,\n",
    "                                    'x_out_raw':      None, \n",
    "                                    'x_out_norm':     None, \n",
    "                                    'F_out_mph':      None},\n",
    "              'propane':       {'x_in_raw':       {}, \n",
    "                                'x_in_norm':      {}, \n",
    "                                'F_in_mph':       {},\n",
    "                                'F_in_TOTAL_mph': 0.0,\n",
    "                                    'x_out_raw':      None, \n",
    "                                    'x_out_norm':     None, \n",
    "                                    'F_out_mph':      None}}\n",
    "\n",
    "# to be populated with flow rates for every in/out gas stream\n",
    "# volumetric rates populated from averaged raw data, then used to calculate molar rates using PV=nRT\n",
    "stream_rates = {'sccm/min':{},\n",
    "                'mph'     :{}\n",
    "               }\n",
    "\n",
    "# Calculated total inlet/effluent rates using NORMALIZED compositions (inlet is NOT simply summed from stream_rates)\n",
    "total_inlet_norm_mph    = 0.0\n",
    "total_effluent_norm_mph = 0.0\n",
    "\n",
    "# to be populated with elemental mass flow rates: gas in/out, liquid in/out, and accumulation, all in g/hr \n",
    "elem_rates = {'C':{'inlet_gph'       : 0.0, \n",
    "                   'effluent_gph'    : 0.0,\n",
    "                   'liquid_gph'      : None,\n",
    "                   'draw_gph'        : None,\n",
    "                   'accumulation_gph': None},\n",
    "              'H':{'inlet_gph'       : 0.0, \n",
    "                   'effluent_gph'    : 0.0,\n",
    "                   'liquid_gph'      : None,\n",
    "                   'draw_gph'        : None,\n",
    "                   'accumulation_gph': None},\n",
    "              'O':{'inlet_gph'       : 0.0, \n",
    "                   'effluent_gph'    : 0.0,\n",
    "                   'liquid_gph'      : None,\n",
    "                   'draw_gph'        : None,\n",
    "                   'accumulation_gph': None},\n",
    "              'N':{'inlet_gph'       : 0.0, \n",
    "                   'effluent_gph'    : 0.0,\n",
    "                   'liquid_gph'      : None,\n",
    "                   'draw_gph'        : None,\n",
    "                   'accumulation_gph': None}}\n",
    "\n",
    "# to be populated with elemental closures\n",
    "closures = {'C': None, \n",
    "            'H': None, \n",
    "            'O': None, \n",
    "            'N': None}"
   ]
  },
  {
   "cell_type": "markdown",
   "metadata": {},
   "source": [
    "<h2>3) Load Raw Data and Tank-specific Tags</h2>\n",
    "<h4>Trim data to user input time window, populate tag_dict </h4>"
   ]
  },
  {
   "cell_type": "code",
   "execution_count": 6,
   "metadata": {},
   "outputs": [
    {
     "name": "stdout",
     "output_type": "stream",
     "text": [
      "-----------------------------------------------------\n",
      "Run Number:                   CST291\n",
      "Tank:                         T09\n",
      "Start time:                   1395.03\n",
      "End time:                     1502.99\n",
      "Initial BDO in mg/L:          6614.9924\n",
      "Final BDO in mg/L             5631.6196\n",
      "Initial OD:                   53.401\n",
      "Final OD:                     53.8463\n"
     ]
    }
   ],
   "source": [
    "# Load data into DataFrame, and Trim DF to only include data within the specified time window. \n",
    "# Set index to ferm age (time), and don't drop column!\n",
    "# If exact input start_time/end_time don't exist, next/previous timepoints will be picked instead\n",
    "raw_df = pd.read_csv(infile)\n",
    "raw_df = raw_df[raw_df['fermentation_age_hours'] >= start_time]\n",
    "raw_df = raw_df[raw_df['fermentation_age_hours'] <= end_time]\n",
    "raw_df = raw_df.set_index('fermentation_age_hours', drop=False)\n",
    "\n",
    "# Remove 'NaN' values from raw data\n",
    "raw_df.fillna(0.0, inplace=True)\n",
    "# raw_df = raw_df[raw_df['offgas2.rms_flow'] >= 50.0]\n",
    "\n",
    "# Pull tank number from raw data as a string, e.g. \"02\" from \"T02\"\n",
    "tank = raw_df.at[raw_df.index[0],'fermentor'][1:3]\n",
    "\n",
    "# Initialize dict with keys only (values = None)\n",
    "tag_dict = dict.fromkeys(['Mass spec', 'BDO, mg/L', 'OD, raw', 'Feed Scale, kg', \n",
    "                          'BLEND_F_in', 'BLEND_x_argon_in_raw', 'BLEND_x_carbon_dioxide_in_raw', 'BLEND_x_ethane_in_raw', 'BLEND_x_hydrogen_in_raw', 'BLEND_x_methane_in_raw', 'BLEND_x_nitrogen_in_raw', 'BLEND_x_oxygen_in_raw', 'BLEND_x_propane_in_raw',\n",
    "                          'AIR_F_in',   'AIR_x_argon_in_raw',   'AIR_x_carbon_dioxide_in_raw',   'AIR_x_ethane_in_raw',   'AIR_x_hydrogen_in_raw',   'AIR_x_methane_in_raw',   'AIR_x_nitrogen_in_raw',   'AIR_x_oxygen_in_raw',   'AIR_x_propane_in_raw',\n",
    "                          'CH4_F_in',   'CH4_x_argon_in_raw',   'CH4_x_carbon_dioxide_in_raw',   'CH4_x_ethane_in_raw',   'CH4_x_hydrogen_in_raw',   'CH4_x_methane_in_raw',   'CH4_x_nitrogen_in_raw',   'CH4_x_oxygen_in_raw',   'CH4_x_propane_in_raw',\n",
    "                          'CNG_F_in',   'CNG_x_argon_in_raw',   'CNG_x_carbon_dioxide_in_raw',   'CNG_x_ethane_in_raw',   'CNG_x_hydrogen_in_raw',   'CNG_x_methane_in_raw',   'CNG_x_nitrogen_in_raw',   'CNG_x_oxygen_in_raw',   'CNG_x_propane_in_raw',\n",
    "                          'O2_F_in',    'O2_x_argon_in_raw',    'O2_x_carbon_dioxide_in_raw',    'O2_x_ethane_in_raw',    'O2_x_hydrogen_in_raw',    'O2_x_methane_in_raw',    'O2_x_nitrogen_in_raw',    'O2_x_oxygen_in_raw',    'O2_x_propane_in_raw',\n",
    "                          'N2_F_in',    'N2_x_argon_in_raw',    'N2_x_carbon_dioxide_in_raw',    'N2_x_ethane_in_raw',    'N2_x_hydrogen_in_raw',    'N2_x_methane_in_raw',    'N2_x_nitrogen_in_raw',    'N2_x_oxygen_in_raw',    'N2_x_propane_in_raw',\n",
    "                                        'x_argon_out_raw',      'x_carbon_dioxide_out_raw',      'x_ethane_out_raw',      'x_hydrogen_out_raw',      'x_methane_out_raw',      'x_nitrogen_out_raw',      'x_oxygen_out_raw',      'x_propane_out_raw'])\n",
    "\n",
    "# Fill in dict values with header tags for input tank, from varfile csv\n",
    "tag_map_df = pd.read_csv(varfile, index_col='Tank')\n",
    "for key in tag_dict.keys():\n",
    "    tag_dict[key] = tag_map_df.at[int(tank), key]\n",
    "\n",
    "start_time = raw_df['fermentation_age_hours'].min()\n",
    "end_time   = raw_df['fermentation_age_hours'].max()\n",
    "\n",
    "# Warn if steady state is not reached. Steady state being +/- 25% of BDO, 2% of OD\n",
    "bdo_start = raw_df.at[start_time, tag_dict['BDO, mg/L']]\n",
    "bdo_end   = raw_df.at[end_time,   tag_dict['BDO, mg/L']]\n",
    "od_start  = raw_df.at[start_time, tag_dict['OD, raw']]\n",
    "od_end    = raw_df.at[end_time,   tag_dict['OD, raw']]\n",
    "\n",
    "print(\"-----------------------------------------------------\")\n",
    "print('Run Number:'.ljust(30) + f'{run_id}')\n",
    "print('Tank:'.ljust(30) + f'T{tank}')\n",
    "print('Start time:'.ljust(30) + f'{start_time}')\n",
    "print('End time:'.ljust(30) + f'{end_time}')\n",
    "print('Initial BDO in mg/L:'.ljust(30) + f'{bdo_start}')\n",
    "print('Final BDO in mg/L'.ljust(30) + f'{bdo_end}')\n",
    "print('Initial OD:'.ljust(30) + f'{od_start}')\n",
    "print('Final OD:'.ljust(30) + f'{od_end}')"
   ]
  },
  {
   "cell_type": "code",
   "execution_count": 7,
   "metadata": {},
   "outputs": [],
   "source": [
    "# Export raw data?\n",
    "raw_df.to_csv(\"raw_df_outputs/raw_data.csv\")"
   ]
  },
  {
   "cell_type": "markdown",
   "metadata": {},
   "source": [
    "<h4>Populate 'components' with inlet and effluent volumetric/molar fractions </h4>"
   ]
  },
  {
   "cell_type": "code",
   "execution_count": 8,
   "metadata": {},
   "outputs": [],
   "source": [
    "# Average raw data over interval for BDO, OD, and (8 component mass fractions) * (# used + 1 outlet) streams\n",
    "BDO_mg_per_L = raw_df[tag_dict['BDO, mg/L']].mean()\n",
    "OD_raw       = raw_df[tag_dict['OD, raw']].mean()\n",
    "\n",
    "for comp,c in components.items():\n",
    "    c['x_out_raw'] = raw_df[tag_dict[f'x_{comp}_out_raw']].mean()\n",
    "    for s in used_streams:\n",
    "        c['x_in_raw'][s] = raw_df[tag_dict[f'{s}_x_{comp}_in_raw']].mean()\n",
    "\n",
    "for s in used_streams:\n",
    "    stream_rates['sccm/min'][s] = raw_df[tag_dict[f'{s}_F_in']].mean()"
   ]
  },
  {
   "cell_type": "markdown",
   "metadata": {},
   "source": [
    "<h2>4) Mass Balance!</h2>\n",
    "<h2>4a: Inlet Gas </h2>"
   ]
  },
  {
   "cell_type": "code",
   "execution_count": 9,
   "metadata": {},
   "outputs": [],
   "source": [
    "# Calculate in_comp_fraction_total\n",
    "# 8 components * # of used streams - find sum of all component fractions (averaged over time period, given in % points).\n",
    "# Should be close to 100.0 * # of streams (negligible components are ignored)\n",
    "in_comp_fraction_total = 0.0\n",
    "for comp,c in components.items():\n",
    "    for s in used_streams:\n",
    "        in_comp_fraction_total += c['x_in_raw'][s]\n",
    "\n",
    "# With in_comp_fraction_total, calculate normalized compositions so that each of # of streams x 8 component fractions add up to 100 % points\n",
    "for comp,c in components.items():\n",
    "    for s in used_streams:\n",
    "        c['x_in_norm'][s] = (c['x_in_raw'][s]\n",
    "                             * len(used_streams) \n",
    "                             * (100.0 / in_comp_fraction_total)\n",
    "                            )\n",
    "\n",
    "# Convert total volumetric flow rate through each used stream (SCCM/min = standard cubic centimeters/min; same as mL/min)\n",
    "# to total molar flow rates (mph) using PV=nRT.\n",
    "for s in used_streams:\n",
    "    stream_rates['mph'][s] = (stream_rates['sccm/min'][s] \n",
    "                              * (1/1000) \n",
    "                              * 60 \n",
    "                              * _P_ref_bar \n",
    "                              / \n",
    "                               (_R__L_bar_per_K_mol * _T_ref_K)\n",
    "                             )  \n",
    "    \n",
    "# Calculate molar flow rates for each comp in each stream = stream flow rate * NORMALIZED component fraction / 100%\n",
    "# Also sum up to get total inlet rates\n",
    "for comp,c in components.items():\n",
    "    for s in used_streams:\n",
    "        c['F_in_mph'][s] = (stream_rates['mph'][s] \n",
    "                            * (c['x_in_norm'][s] / 100.0)\n",
    "                           )\n",
    "        \n",
    "        # sum to get total inlet rate for each component\n",
    "        c['F_in_TOTAL_mph'] += c['F_in_mph'][s]\n",
    "        \n",
    "        # also sum to get total overall inlet rate\n",
    "        total_inlet_norm_mph += c['F_in_mph'][s]\n",
    "        \n",
    "        # Calculate elemental mass flow rate for C H O N\n",
    "        # = comp molar rate * mol of elem in mol of comp * elem molar mass (g/mol)\n",
    "        for elem, e in elem_rates.items():\n",
    "            element = _elements[elem] # brevity\n",
    "            e['inlet_gph'] += (c['F_in_mph'][s] \n",
    "                               * element['n_in'][comp] \n",
    "                               * element['molar_mass']\n",
    "                              )"
   ]
  },
  {
   "cell_type": "markdown",
   "metadata": {},
   "source": [
    "<h2> 4b: Effluent Gas </h2>"
   ]
  },
  {
   "cell_type": "code",
   "execution_count": 10,
   "metadata": {},
   "outputs": [],
   "source": [
    "# almost same steps as Inlet Gas, but only one out stream\n",
    "\n",
    "out_comp_fraction_total = 0.0\n",
    "for comp,c in components.items():\n",
    "    out_comp_fraction_total += c['x_out_raw']\n",
    "\n",
    "for comp,c in components.items():\n",
    "    c['x_out_norm'] = (c['x_out_raw'] \n",
    "                       * (100.0 / out_comp_fraction_total)\n",
    "                      )\n",
    "\n",
    "# Need to calculate total effluent molar flow rate using argon mass balance: Argon mph in = Argon mph out\n",
    "# 1: (total F_in_mph) * (Argon fraction in) = (total F_out_mph) * (Argon fraction out)\n",
    "# 2: (total F_in_mph) * (Argon fraction in) = (total Argon F_in) \n",
    "# (total F_out_mph) = (total Argon F_in) / (Argon fraction out)\n",
    "argon = components['argon']\n",
    "total_effluent_norm_mph = (argon['F_in_TOTAL_mph'] \n",
    "                           / (argon['x_out_norm'] / 100.0)\n",
    "                          )\n",
    "\n",
    "for comp,c in components.items():\n",
    "    c['F_out_mph'] = (total_effluent_norm_mph \n",
    "                      * (c['x_out_norm'] / 100.0)\n",
    "                     )\n",
    "    # Calculate elemental mass flow rate for C H O N\n",
    "    # = comp molar rate * mol of elem in mol of comp * elem molar mass (g/mol)\n",
    "    for elem, e in elem_rates.items():\n",
    "        element = _elements[elem] # brevity\n",
    "        e['effluent_gph'] += (  c['F_out_mph'] \n",
    "                              * element['n_in'][comp] \n",
    "                              * element['molar_mass'])"
   ]
  },
  {
   "cell_type": "markdown",
   "metadata": {},
   "source": [
    "<h2> 4c: Liquid Feed </h2>"
   ]
  },
  {
   "cell_type": "code",
   "execution_count": 11,
   "metadata": {},
   "outputs": [],
   "source": [
    "## Liquid Feed\n",
    "# Liquid feed rate is d(feed scale)/dt. This mass balance is designed for a single dilution rate (feed rate / V)\n",
    "t_start       = start_time\n",
    "t_start_plus1 = start_time + 1.0\n",
    "t_end         = end_time\n",
    "t_end_minus1  = end_time - 1.0\n",
    "\n",
    "# Feed rate = (feed scale reading @ t - feed scale reading @ t+1) / 1 hour\n",
    "feed_rate_start = raw_df.at[t_start,      tag_dict['Feed Scale, kg']] - raw_df.at[t_start_plus1, tag_dict['Feed Scale, kg']]\n",
    "feed_rate_end   = raw_df.at[t_end_minus1, tag_dict['Feed Scale, kg']] - raw_df.at[t_end,         tag_dict['Feed Scale, kg']]\n",
    "\n",
    "# Conditional statement in case we don't have feed scale data, take user input for dilution rate\n",
    "if feed_rate_end == 0.0:\n",
    "    dilution_rate     = float(input(\"Feed scale data is missing. Please enter your assumed dilution rate, e.g. '0.03': \"))\n",
    "    liq_feed_rate_gph = dilution_rate * _working_mass_g\n",
    "else:\n",
    "    # scales all should be reading in kg units => convert to g\n",
    "    liq_feed_rate_gph = feed_rate_end * 1000.00\n",
    "    dilution_rate     = liq_feed_rate_gph / _working_mass_g\n",
    "\n",
    "\n",
    "for elem, e in elem_rates.items():\n",
    "    w_of_elem_in = _elements[elem]['w_in'] # brevity\n",
    "    \n",
    "    e['liquid_gph'] = liq_feed_rate_gph * w_of_elem_in['H2O']"
   ]
  },
  {
   "cell_type": "markdown",
   "metadata": {},
   "source": [
    "<h2> 4d: Accumulation </h2>"
   ]
  },
  {
   "cell_type": "code",
   "execution_count": 12,
   "metadata": {},
   "outputs": [],
   "source": [
    "# Calculate accumulation (g/L) of liquid products (BDO, BioMass, H2O)\n",
    "\n",
    "# BDO given in mg/L, convert to g/L\n",
    "# accumulation of H2O = -(accumulation of BDO and BM)\n",
    "delta_BDO_gpL =  (bdo_end - bdo_start) / 1000.0\n",
    "delta_BM_gpL  =  (od_end -  od_start) * _OD_to_gDCW_per_L\n",
    "delta_H2O_gpL = -(delta_BDO_gpL + delta_BM_gpL)\n",
    "\n",
    "# Start with Accumulation = Mass * (delta_BDO * sigma_O_BDO + delta_BM * sigma_O_BM + delta_H2O * sigma_O_H2O)\n",
    "for elem, e in elem_rates.items():\n",
    "    w_of_elem_in = _elements[elem]['w_in'] # brevity\n",
    "    \n",
    "    e['accumulation_gph'] = (_working_vol_L * (  delta_BDO_gpL * w_of_elem_in['BDO']\n",
    "                                               + delta_BM_gpL  * w_of_elem_in['biomass']\n",
    "                                               + delta_H2O_gpL * w_of_elem_in['H2O']) \n",
    "                             / (end_time - start_time)\n",
    "                            )"
   ]
  },
  {
   "cell_type": "markdown",
   "metadata": {},
   "source": [
    "<h2>4e: Liquid Draw </h2>"
   ]
  },
  {
   "cell_type": "code",
   "execution_count": 13,
   "metadata": {},
   "outputs": [],
   "source": [
    "# Determine average liquid mass fractions of [BDO, BM, H2O] in liquid draw/effluent. Assume 1000.0 g/L density.\n",
    "w_BDO_gpL = BDO_mg_per_L / 1000\n",
    "w_BM_gpL  = OD_raw * _OD_to_gDCW_per_L\n",
    "w_H2O_gpL = (1000.0 \n",
    "             - w_BDO_gpL \n",
    "             - w_BM_gpL)\n",
    "\n",
    "# Calculate total draw rate in Lph from two oxygen balances:\n",
    "# 1: O_draw_gph = O_inlet_gph + O_liquid_gph - O_effluent_gph - O_acc \n",
    "# 2: O_draw_gph = draw_rate_Lph * (w_BDO_liq * w_O_BDO + w_BM_liq * w_O_BDO + w_H2O_liq * w_O_H2O)\n",
    "# Another option is to simply set 'Draw Rate, g/hr' = 'Liquid Feed Rate, g/hr'\n",
    "O = elem_rates['O'] # brevity\n",
    "w_of_O_in = _elements['O']['w_in'] # brevity\n",
    "\n",
    "draw_rate_Lph = ((  O['liquid_gph'] \n",
    "                  + O['inlet_gph'] \n",
    "                  - O['effluent_gph'] \n",
    "                  - O['accumulation_gph']) \n",
    "                 /\n",
    "                  (   w_BDO_gpL * w_of_O_in['BDO'] \n",
    "                    + w_BM_gpL  * w_of_O_in['biomass'] \n",
    "                    + w_H2O_gpL * w_of_O_in['H2O']))\n",
    "\n",
    "for elem, e in elem_rates.items():\n",
    "    w_of_elem_in = _elements[elem]['w_in'] # brevity\n",
    "    \n",
    "    e['draw_gph'] = (draw_rate_Lph * (  w_BDO_gpL * w_of_elem_in['BDO']\n",
    "                                      + w_BM_gpL  * w_of_elem_in['biomass']\n",
    "                                      + w_H2O_gpL * w_of_elem_in['H2O']))"
   ]
  },
  {
   "cell_type": "markdown",
   "metadata": {},
   "source": [
    "<h2> 5) Elemental Closures </h2>"
   ]
  },
  {
   "cell_type": "code",
   "execution_count": 14,
   "metadata": {},
   "outputs": [],
   "source": [
    "for elem in closures:\n",
    "    e = elem_rates[elem]\n",
    "    closures[elem] = ((  e['effluent_gph'] \n",
    "                       + e['draw_gph'] \n",
    "                       + e['accumulation_gph'])\n",
    "                      / \n",
    "                       (  e['inlet_gph'] \n",
    "                        + e['liquid_gph']))"
   ]
  },
  {
   "cell_type": "markdown",
   "metadata": {},
   "source": [
    "<h2> 6) KPI Calculations </h2>"
   ]
  },
  {
   "cell_type": "code",
   "execution_count": 15,
   "metadata": {},
   "outputs": [],
   "source": [
    "KPI_rates_mmph = {'carbon_dioxide':None,\n",
    "                  'ethane':        None, \n",
    "                  'methane':       None,\n",
    "                  'nitrogen':      None,\n",
    "                  'oxygen':        None}\n",
    "\n",
    "for comp, rate in KPI_rates_mmph.items():\n",
    "    c = components[comp] # brevity\n",
    "    \n",
    "    # CER = out - in, XUR = in - out; (1000 mmol/mol) rate conversion\n",
    "    if comp == 'carbon_dioxide':\n",
    "        KPI_rates_mmph[comp] = (c['F_out_mph']      - c['F_in_TOTAL_mph']) * 1000.0\n",
    "    else:\n",
    "        KPI_rates_mmph[comp] = (c['F_in_TOTAL_mph'] -      c['F_out_mph']) * 1000.0\n",
    "\n",
    "# Biomass ER: OD * (g DCW / L / OD) * L * (1/hr) / (g DCW / mol DCW) * (1000 mmol DCW / mol DCW) = mmol DCW / hr\n",
    "biomass_ER = (  OD_raw \n",
    "              * _OD_to_gDCW_per_L \n",
    "              * _working_vol_L \n",
    "              * dilution_rate \n",
    "              / _Biomass_MW  \n",
    "              * 1000)\n",
    "\n",
    "# 23BDO ER: (mg BDO / L) * L * (1/hr) / (g BDO / mol DCW) * (1000 mmol BDO / mol BDO) * (g BDO / 1000 mg BDO) = mmol BDO / hr\n",
    "BDO_ER = (BDO_mg_per_L \n",
    "          * _working_vol_L \n",
    "          * dilution_rate \n",
    "          / _BDO_MW)"
   ]
  },
  {
   "cell_type": "code",
   "execution_count": 16,
   "metadata": {},
   "outputs": [
    {
     "data": {
      "text/plain": [
       "{'C': 0.19337350838578676,\n",
       " 'H': 0.4105859082615211,\n",
       " 'O': 1.0,\n",
       " 'N': 0.5663363364853607}"
      ]
     },
     "execution_count": 16,
     "metadata": {},
     "output_type": "execute_result"
    }
   ],
   "source": [
    "closures"
   ]
  },
  {
   "cell_type": "code",
   "execution_count": 17,
   "metadata": {},
   "outputs": [
    {
     "data": {
      "text/plain": [
       "-0.0426248693902261"
      ]
     },
     "execution_count": 17,
     "metadata": {},
     "output_type": "execute_result"
    }
   ],
   "source": [
    "# Stoichiometric C\n",
    "(KPI_rates_mmph['carbon_dioxide'] + biomass_ER + 4*BDO_ER) / KPI_rates_mmph['methane']"
   ]
  },
  {
   "cell_type": "code",
   "execution_count": 18,
   "metadata": {},
   "outputs": [
    {
     "data": {
      "text/plain": [
       "{'carbon_dioxide': -78.62234812245785,\n",
       " 'ethane': 23.507394143459585,\n",
       " 'methane': 1561.4524998086904,\n",
       " 'nitrogen': 468.11792266334015,\n",
       " 'oxygen': 160.83436244373024}"
      ]
     },
     "execution_count": 18,
     "metadata": {},
     "output_type": "execute_result"
    }
   ],
   "source": [
    "KPI_rates_mmph"
   ]
  },
  {
   "cell_type": "code",
   "execution_count": 19,
   "metadata": {},
   "outputs": [
    {
     "name": "stdout",
     "output_type": "stream",
     "text": [
      "9.0184970415889\n",
      "0.7617855543703682\n"
     ]
    }
   ],
   "source": [
    "print(biomass_ER)\n",
    "print(BDO_ER)"
   ]
  },
  {
   "cell_type": "code",
   "execution_count": 20,
   "metadata": {},
   "outputs": [
    {
     "name": "stdout",
     "output_type": "stream",
     "text": [
      "40.0957186728395\n",
      "99.9708249691358\n"
     ]
    }
   ],
   "source": [
    "print(in_comp_fraction_total)\n",
    "print(out_comp_fraction_total)"
   ]
  },
  {
   "cell_type": "markdown",
   "metadata": {},
   "source": [
    "<h2>7) Read output run list as dataframe; Append row; Populate with calculations </h2>"
   ]
  },
  {
   "cell_type": "code",
   "execution_count": null,
   "metadata": {},
   "outputs": [],
   "source": [
    "# Read current run list into DataFrame. Append new empty row, and set idx to integer index of this last row\n",
    "df = pd.read_excel(outfile, index_col=0)\n",
    "df = df.append(pd.Series(), ignore_index=True)\n",
    "idx = df.index[-1]\n",
    "\n",
    "## Choose values/calculations to output to run list spreadsheet\n",
    "\n",
    "df.at[idx, 'Run_ID'] = run_id\n",
    "df.at[idx, 'Tank'] = int(tank)\n",
    "\n",
    "# If exact input start_time/end_time don't exist, next/previous timepoints will be picked instead\n",
    "df.at[idx, 'Start Time, hours'] = raw_df['fermentation_age_hours'].min()\n",
    "df.at[idx, 'End Time, hours'] = raw_df['fermentation_age_hours'].max()\n",
    "df.at[idx, 'Dilution Rate, hrs^-1'] = dilution_rate\n",
    "\n",
    "df.at[idx, 'Used streams'] = ', '.join(used_streams)\n",
    "\n",
    "df.at[idx, 'C Closure'] = closures['C']\n",
    "df.at[idx, 'H Closure'] = closures['H']\n",
    "df.at[idx, 'O Closure'] = closures['O']\n",
    "df.at[idx, 'N Closure'] = closures['N']\n",
    "\n",
    "df.at[idx, 'CER, mmol/hr'] = KPI_rates_mmph['carbon_dioxide']\n",
    "df.at[idx, 'EUR, mmol/hr'] = KPI_rates_mmph['ethane']\n",
    "df.at[idx, 'MUR, mmol/hr'] = KPI_rates_mmph['methane']\n",
    "df.at[idx, 'NUR, mmol/hr'] = KPI_rates_mmph['nitrogen']\n",
    "df.at[idx, 'OUR, mmol/hr'] = KPI_rates_mmph['oxygen']\n",
    "df.at[idx, 'Biomass ER, mmol/hr'] = biomass_ER\n",
    "df.at[idx, '2,3-BDO, mmol/hr'] = BDO_ER\n",
    "\n",
    "df.at[idx, 'Initial BDO, mg/L'] = bdo_start\n",
    "df.at[idx, 'Final BDO, mg/L'] = bdo_end\n",
    "df.at[idx, 'Average BDO, mg/L'] = BDO_mg_per_L\n",
    "\n",
    "df.at[idx, 'Initial OD, raw'] = od_start\n",
    "df.at[idx, 'Final OD, raw'] = od_end\n",
    "df.at[idx, 'Average OD, raw'] = OD_raw"
   ]
  },
  {
   "cell_type": "markdown",
   "metadata": {},
   "source": [
    "<h2> 8) Overwrite and Output new list </h2>"
   ]
  },
  {
   "cell_type": "code",
   "execution_count": null,
   "metadata": {},
   "outputs": [],
   "source": [
    "df.to_excel(outfile)"
   ]
  },
  {
   "cell_type": "markdown",
   "metadata": {},
   "source": [
    "<h1> THE END! </h1>"
   ]
  },
  {
   "cell_type": "code",
   "execution_count": null,
   "metadata": {},
   "outputs": [],
   "source": [
    "# results.at[idx, 'Total Inlet Gas Rate, mol/hr'] = \n",
    "\n",
    "# results.at[idx, 'Inlet C Rate, g/hr'] = \n",
    "# results.at[idx, 'Inlet H Rate, g/hr'] = \n",
    "# results.at[idx, 'Inlet O Rate, g/hr'] = \n",
    "# results.at[idx, 'Inlet N Rate, g/hr'] = \n",
    "\n",
    "# results.at[idx, 'Effluent C Rate, g/hr'] = \n",
    "# results.at[idx, 'Effluent H Rate, g/hr'] = \n",
    "# results.at[idx, 'Effluent O Rate, g/hr'] = \n",
    "# results.at[idx, 'Effluent N Rate, g/hr'] = \n",
    "\n",
    "# results.at[idx, 'Liquid Feed Rate, g/hr'] = liq_feed_rate_gph\n",
    "\n",
    "# results.at[idx, 'Liquid C Rate, g/hr'] = \n",
    "# results.at[idx, 'Liquid H Rate, g/hr'] = \n",
    "# results.at[idx, 'Liquid O Rate, g/hr'] = \n",
    "# results.at[idx, 'Liquid N Rate, g/hr'] = \n",
    "\n",
    "# results.at[idx, 'Accumulation C, g/hr'] = \n",
    "# results.at[idx, 'Accumulation H, g/hr'] = \n",
    "# results.at[idx, 'Accumulation O, g/hr'] = \n",
    "# results.at[idx, 'Accumulation N, g/hr'] = \n",
    "\n",
    "# results.at[idx, 'w_BDO_liq_g/L'] = \n",
    "# results.at[idx, 'w_BM_liq_g/L'] = \n",
    "# results.at[idx, 'w_H2O_liq_g/L'] = \n",
    "\n",
    "# results.at[idx, 'Draw Rate, L/hr'] = \n",
    "# results.at[idx, 'Draw Rate, g/hr'] = \n",
    "\n",
    "# results.at[idx, 'Draw C Rate, g/hr'] = \n",
    "# results.at[idx, 'Draw H Rate, g/hr'] = \n",
    "# results.at[idx, 'Draw O Rate, g/hr'] = \n",
    "# results.at[idx, 'Draw N Rate, g/hr'] = "
   ]
  }
 ],
 "metadata": {
  "kernelspec": {
   "display_name": "Python 3",
   "language": "python",
   "name": "python3"
  },
  "language_info": {
   "codemirror_mode": {
    "name": "ipython",
    "version": 3
   },
   "file_extension": ".py",
   "mimetype": "text/x-python",
   "name": "python",
   "nbconvert_exporter": "python",
   "pygments_lexer": "ipython3",
   "version": "3.7.3"
  }
 },
 "nbformat": 4,
 "nbformat_minor": 2
}
